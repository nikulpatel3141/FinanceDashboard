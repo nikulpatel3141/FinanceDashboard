{
 "cells": [
  {
   "cell_type": "code",
   "execution_count": 2,
   "id": "caebbae1",
   "metadata": {},
   "outputs": [],
   "source": [
    "# !pip install polars httpx requests dotenv"
   ]
  },
  {
   "cell_type": "code",
   "execution_count": null,
   "id": "e1c681e3",
   "metadata": {},
   "outputs": [
    {
     "data": {
      "text/plain": [
       "True"
      ]
     },
     "execution_count": 52,
     "metadata": {},
     "output_type": "execute_result"
    }
   ],
   "source": [
    "import os\n",
    "\n",
    "import requests\n",
    "\n",
    "# from dotenv import load_dotenv\n",
    "# load_dotenv()"
   ]
  },
  {
   "cell_type": "code",
   "execution_count": 62,
   "id": "95b83499",
   "metadata": {},
   "outputs": [],
   "source": [
    "\n",
    "r = requests.get(\"https://api.binance.com/api/v3/avgPrice?symbol=BTCUSDT\")"
   ]
  },
  {
   "cell_type": "code",
   "execution_count": 68,
   "id": "815511f9",
   "metadata": {},
   "outputs": [
    {
     "data": {
      "text/plain": [
       "<Response [200]>"
      ]
     },
     "execution_count": 68,
     "metadata": {},
     "output_type": "execute_result"
    }
   ],
   "source": [
    "requests.get(\"https://www.binance.com/bapi/margin/v1/friendly/margin/vip/spec/list-all\")"
   ]
  },
  {
   "cell_type": "code",
   "execution_count": 91,
   "id": "a0588b51",
   "metadata": {},
   "outputs": [],
   "source": [
    "BINANCE_ENDPOINTS = {\n",
    "    \"borrowRates\": \"https://www.binance.com/bapi/margin/v1/friendly/margin/vip/spec/list-all\",\n",
    "    \"coinInfo\": \"https://eapi.binance.com/eapi/v1/exchangeInfo\",\n",
    "    \"marketPrices\": \"https://eapi.binance.com/eapi/v1/mark\",\n",
    "}\n",
    "\n",
    "\n",
    "def queryEndpoint(endpoint: str) -> dict:\n",
    "    resp = requests.get(BINANCE_ENDPOINTS[endpoint])\n",
    "    resp.raise_for_status()\n",
    "    resp = resp.json()\n",
    "\n",
    "    if isinstance(resp, dict) and resp.get('code') == 0:\n",
    "        raise ConnectionError(resp.get('msg'))\n",
    "\n",
    "    return resp\n",
    "\n",
    "# exchange_info = queryEndpoint('coinInfo')\n",
    "# market_prices = queryEndpoint('marketPrices')\n",
    "borrow_rates = queryEndpoint('borrowRates')"
   ]
  },
  {
   "cell_type": "code",
   "execution_count": 86,
   "id": "5711da6a",
   "metadata": {},
   "outputs": [
    {
     "data": {
      "text/plain": [
       "0.38706425000000005"
      ]
     },
     "execution_count": 86,
     "metadata": {},
     "output_type": "execute_result"
    }
   ],
   "source": [
    "float(borrow_rates['data'][0]['specs'][-1]['dailyInterestRate']) * 365"
   ]
  },
  {
   "cell_type": "code",
   "execution_count": null,
   "id": "418ab8ed",
   "metadata": {},
   "outputs": [],
   "source": []
  },
  {
   "cell_type": "code",
   "execution_count": null,
   "id": "60647d83",
   "metadata": {},
   "outputs": [],
   "source": []
  },
  {
   "cell_type": "code",
   "execution_count": null,
   "id": "4cc19df7",
   "metadata": {},
   "outputs": [],
   "source": []
  },
  {
   "cell_type": "code",
   "execution_count": null,
   "id": "766b8484",
   "metadata": {},
   "outputs": [],
   "source": []
  }
 ],
 "metadata": {
  "kernelspec": {
   "display_name": ".venv",
   "language": "python",
   "name": "python3"
  },
  "language_info": {
   "codemirror_mode": {
    "name": "ipython",
    "version": 3
   },
   "file_extension": ".py",
   "mimetype": "text/x-python",
   "name": "python",
   "nbconvert_exporter": "python",
   "pygments_lexer": "ipython3",
   "version": "3.12.11"
  }
 },
 "nbformat": 4,
 "nbformat_minor": 5
}
